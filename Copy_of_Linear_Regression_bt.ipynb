{
  "cells": [
    {
      "cell_type": "markdown",
      "metadata": {
        "id": "view-in-github",
        "colab_type": "text"
      },
      "source": [
        "<a href=\"https://colab.research.google.com/github/hoangphan2504/fhoang/blob/main/Copy_of_Linear_Regression_bt.ipynb\" target=\"_parent\"><img src=\"https://colab.research.google.com/assets/colab-badge.svg\" alt=\"Open In Colab\"/></a>"
      ]
    },
    {
      "cell_type": "markdown",
      "source": [
        "# 0. Tải dữ liệu từ kaggle lên colab"
      ],
      "metadata": {
        "id": "eVlwDG8c-5IE"
      }
    },
    {
      "cell_type": "markdown",
      "source": [
        "## 0.1 Tạo tài khoản trên kaggle \n",
        "Tạo tài khoản của các bạn tại đường dẫn: https://www.kaggle.com/account/login, kaggle cho phép sử dụng gmail nên các bạn hãy dùng mail trường cho dễ quản lý."
      ],
      "metadata": {
        "id": "4lLJzg-u-82i"
      }
    },
    {
      "cell_type": "markdown",
      "source": [
        "## 0.2 API Credentials:\n",
        "Để tải dữ liệu từ Kaggle vào Google Colab, các bạn có thể bỏ bước trung gian là qua máy local các bạn. Kaggle hỗ trợ điều này bằng API Credentials, giúp xác thực máy ảo của Colab được phép truy cập dữ liệu từ Kaggle"
      ],
      "metadata": {
        "id": "EO4NZu1r_bqb"
      }
    },
    {
      "cell_type": "markdown",
      "source": [
        "- B1: Nhấn biểu tượng avatar bên phải trên cùng -> nhấn vào \"Your profile\".\n",
        "- B2: Tại thanh bar đầu tiên, các bạn vào mục \"Account\".\n",
        "- B3: Tìm API của Kaggle và tạo token (\"kaggle.json\") tại \"Create new token\"."
      ],
      "metadata": {
        "id": "c0_ziP0X_9d6"
      }
    },
    {
      "cell_type": "markdown",
      "source": [
        "Các bạn tải lên máy ảo của Colab file \"kaggle.json\""
      ],
      "metadata": {
        "id": "d1x-tuaoAvV5"
      }
    },
    {
      "cell_type": "code",
      "source": [
        "from google.colab import files\n",
        "uploaded = files.upload()"
      ],
      "metadata": {
        "colab": {
          "resources": {
            "http://localhost:8080/nbextensions/google.colab/files.js": {
              "data": "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",
              "ok": true,
              "headers": [
                [
                  "content-type",
                  "application/javascript"
                ]
              ],
              "status": 200,
              "status_text": ""
            }
          },
          "base_uri": "https://localhost:8080/",
          "height": 74
        },
        "id": "wuQCBbfDIEMx",
        "outputId": "d3e56c48-c8d1-474b-a1a4-8ce925052d5f"
      },
      "execution_count": 1,
      "outputs": [
        {
          "output_type": "display_data",
          "data": {
            "text/plain": [
              "<IPython.core.display.HTML object>"
            ],
            "text/html": [
              "\n",
              "     <input type=\"file\" id=\"files-2e35bdaf-7b5d-4277-b7d1-fe87f42f2c15\" name=\"files[]\" multiple disabled\n",
              "        style=\"border:none\" />\n",
              "     <output id=\"result-2e35bdaf-7b5d-4277-b7d1-fe87f42f2c15\">\n",
              "      Upload widget is only available when the cell has been executed in the\n",
              "      current browser session. Please rerun this cell to enable.\n",
              "      </output>\n",
              "      <script src=\"/nbextensions/google.colab/files.js\"></script> "
            ]
          },
          "metadata": {}
        },
        {
          "output_type": "stream",
          "name": "stdout",
          "text": [
            "Saving kaggle.json to kaggle.json\n"
          ]
        }
      ]
    },
    {
      "cell_type": "markdown",
      "source": [
        "Các bạn chạy các dòng lệnh bên dưới là đã xong quá trình cài kaggle"
      ],
      "metadata": {
        "id": "sXzbeIHIBDTh"
      }
    },
    {
      "cell_type": "code",
      "source": [
        "!pip install kaggle \n",
        "!mkdir ~/.kaggle\n",
        "%cd /content\n",
        "!cp kaggle.json ~/.kaggle/\n",
        "!chmod 600 ~/.kaggle/kaggle.json"
      ],
      "metadata": {
        "id": "87eI7L24BDpw",
        "outputId": "12661d53-87d1-4b7a-c07f-5d3d9c1301d8",
        "colab": {
          "base_uri": "https://localhost:8080/"
        }
      },
      "execution_count": 2,
      "outputs": [
        {
          "output_type": "stream",
          "name": "stdout",
          "text": [
            "Requirement already satisfied: kaggle in /usr/local/lib/python3.7/dist-packages (1.5.12)\n",
            "Requirement already satisfied: six>=1.10 in /usr/local/lib/python3.7/dist-packages (from kaggle) (1.15.0)\n",
            "Requirement already satisfied: python-dateutil in /usr/local/lib/python3.7/dist-packages (from kaggle) (2.8.2)\n",
            "Requirement already satisfied: urllib3 in /usr/local/lib/python3.7/dist-packages (from kaggle) (1.24.3)\n",
            "Requirement already satisfied: requests in /usr/local/lib/python3.7/dist-packages (from kaggle) (2.23.0)\n",
            "Requirement already satisfied: python-slugify in /usr/local/lib/python3.7/dist-packages (from kaggle) (6.1.1)\n",
            "Requirement already satisfied: certifi in /usr/local/lib/python3.7/dist-packages (from kaggle) (2021.10.8)\n",
            "Requirement already satisfied: tqdm in /usr/local/lib/python3.7/dist-packages (from kaggle) (4.64.0)\n",
            "Requirement already satisfied: text-unidecode>=1.3 in /usr/local/lib/python3.7/dist-packages (from python-slugify->kaggle) (1.3)\n",
            "Requirement already satisfied: chardet<4,>=3.0.2 in /usr/local/lib/python3.7/dist-packages (from requests->kaggle) (3.0.4)\n",
            "Requirement already satisfied: idna<3,>=2.5 in /usr/local/lib/python3.7/dist-packages (from requests->kaggle) (2.10)\n",
            "/content\n"
          ]
        }
      ]
    },
    {
      "cell_type": "markdown",
      "source": [
        "## 0.3 Tải bất kì bộ dữ liệu nào"
      ],
      "metadata": {
        "id": "-detoAkfBbbI"
      }
    },
    {
      "cell_type": "markdown",
      "source": [
        "Giả sử bạn muốn tải dữ liệu từ: https://www.kaggle.com/datasets/harlfoxem/housesalesprediction"
      ],
      "metadata": {
        "id": "wfxLxG9SEW4V"
      }
    },
    {
      "cell_type": "code",
      "source": [
        "### Cú pháp kaggle datasets download -d user/dataset_name -p ./folder_output/\n",
        "!kaggle datasets download -d harlfoxem/housesalesprediction"
      ],
      "metadata": {
        "colab": {
          "base_uri": "https://localhost:8080/"
        },
        "id": "XR4ZdRIOBkfP",
        "outputId": "a5456934-5e15-41f2-fe51-966462bdc414"
      },
      "execution_count": 3,
      "outputs": [
        {
          "output_type": "stream",
          "name": "stdout",
          "text": [
            "Downloading housesalesprediction.zip to /content\n",
            "\r  0% 0.00/780k [00:00<?, ?B/s]\n",
            "\r100% 780k/780k [00:00<00:00, 85.4MB/s]\n"
          ]
        }
      ]
    },
    {
      "cell_type": "code",
      "source": [
        "!unzip housesalesprediction.zip"
      ],
      "metadata": {
        "colab": {
          "base_uri": "https://localhost:8080/"
        },
        "id": "Nr1K3gNDEkat",
        "outputId": "06329bd4-91fc-4b9b-9c68-0bf4c2fb5b60"
      },
      "execution_count": 4,
      "outputs": [
        {
          "output_type": "stream",
          "name": "stdout",
          "text": [
            "Archive:  housesalesprediction.zip\n",
            "  inflating: kc_house_data.csv       \n"
          ]
        }
      ]
    },
    {
      "cell_type": "markdown",
      "source": [
        "# 1. Bài tập linear regression với đa biến"
      ],
      "metadata": {
        "id": "6TPLLkrsk1v1"
      }
    },
    {
      "cell_type": "code",
      "source": [
        "import pandas as pd\n",
        "import torch\n",
        "\n",
        "### Đọc dữ liệu huấn luyện\n",
        "df_train = pd.read_csv('/content/kc_house_data.csv')"
      ],
      "metadata": {
        "id": "B6DOxYpvE78U"
      },
      "execution_count": 5,
      "outputs": []
    },
    {
      "cell_type": "code",
      "source": [
        "df_train.isnull().values.any()"
      ],
      "metadata": {
        "id": "Ipve-g8iaU-h",
        "colab": {
          "base_uri": "https://localhost:8080/"
        },
        "outputId": "470213de-ab51-4741-aacf-d06b66dc6505"
      },
      "execution_count": 6,
      "outputs": [
        {
          "output_type": "execute_result",
          "data": {
            "text/plain": [
              "False"
            ]
          },
          "metadata": {},
          "execution_count": 6
        }
      ]
    },
    {
      "cell_type": "markdown",
      "source": [
        "Các thông tin như về id sẽ không được quan trọng trong Linear Regression"
      ],
      "metadata": {
        "id": "kAkqkQ0GFzId"
      }
    },
    {
      "cell_type": "code",
      "source": [
        "### Mặc định hàm drop sẽ bỏ hàng hoặc cho axis = 0, và các bạn cho index vào để bỏ hàng\n",
        "### Ở đây axis = 1 tượng trưng cho cột, \n",
        "\n",
        "### Hàm drop ko thực sự thao tác trên dữ liệu của chúng ta\n",
        "### Nên ta cần gán dữ ngược lại cho df_train\n",
        "### Ngoài ra để rút gọn dấu bằng ta có thể thay \n",
        "### parameter inplace = True (rất hay gặp tại các hàm thao tác trên dữ liệu trong pandas)\n",
        "### https://pandas.pydata.org/docs/reference/api/pandas.DataFrame.drop.html\n",
        "df_train = df_train.drop([\"id\"] , axis = 1) "
      ],
      "metadata": {
        "id": "IoEJ2td_FyQK"
      },
      "execution_count": 7,
      "outputs": []
    },
    {
      "cell_type": "code",
      "source": [
        "### Ví dụ bỏ hàng\n",
        "# df_train.head().drop([1,2,3], axis = 0)\n"
      ],
      "metadata": {
        "id": "XhCaAd-wGXv6"
      },
      "execution_count": 8,
      "outputs": []
    },
    {
      "cell_type": "markdown",
      "source": [
        "Ngoài ra, giá của một ngôi nhà có thể không phụ thuộc vào vĩ độ (latitude) và kinh độ (longtitude) và zipcode"
      ],
      "metadata": {
        "id": "eNRFh9KrIXzI"
      }
    },
    {
      "cell_type": "code",
      "source": [
        "df_train = df_train.drop([\"date\",\"lat\",\"long\",\"zipcode\"] , axis = 1) "
      ],
      "metadata": {
        "id": "9pqW8T-ZJOL-"
      },
      "execution_count": 9,
      "outputs": []
    },
    {
      "cell_type": "code",
      "source": [
        "from sklearn import preprocessing\n",
        "import numpy as np\n",
        "from sklearn.model_selection import train_test_split\n",
        "\n",
        "#### Ở đây nếu không dùng scaler thì tí nữa loss sẽ ra Nan, các bạn có thể thử không dùng\n",
        "#### và kiểm nghiệm lại\n",
        "\n",
        "scaler = preprocessing.StandardScaler().fit(df_train)\n",
        "\n",
        "data_numpy = scaler.transform(df_train)\n",
        "\n",
        "#### Chia train test, nhưng thực ra là có dữ liệu để kiểm nghiệm cho nên mình gọi là val luôn\n",
        "train, val = train_test_split(data_numpy,test_size = 0.2)\n",
        "\n",
        "feature_names = df_train.columns\n",
        "\n",
        "train_np = torch.tensor(train)\n",
        "\n",
        "X_train = train_np[:,feature_names != \"price\"]\n",
        "y_train = train_np[:,feature_names == \"price\"]\n",
        "\n",
        "val_np = torch.tensor(val)\n",
        "\n",
        "X_val = val_np[:,feature_names != \"price\"]\n",
        "y_val = val_np[:,feature_names == \"price\"]"
      ],
      "metadata": {
        "id": "IlQs1KCDao4c"
      },
      "execution_count": 10,
      "outputs": []
    },
    {
      "cell_type": "code",
      "source": [
        "print(feature_names)"
      ],
      "metadata": {
        "colab": {
          "base_uri": "https://localhost:8080/"
        },
        "id": "-rmEkX2jT3tZ",
        "outputId": "d01fc6fa-6143-434f-ce4f-fbee15bec7cb"
      },
      "execution_count": 11,
      "outputs": [
        {
          "output_type": "stream",
          "name": "stdout",
          "text": [
            "Index(['price', 'bedrooms', 'bathrooms', 'sqft_living', 'sqft_lot', 'floors',\n",
            "       'waterfront', 'view', 'condition', 'grade', 'sqft_above',\n",
            "       'sqft_basement', 'yr_built', 'yr_renovated', 'sqft_living15',\n",
            "       'sqft_lot15'],\n",
            "      dtype='object')\n"
          ]
        }
      ]
    },
    {
      "cell_type": "code",
      "source": [
        "#### Tạo ma trận W và bias b\n",
        "#### Để dự đoán kết quả \n",
        "W = torch.tensor( torch.rand(X_train.shape[1],1), requires_grad= True)\n",
        "b = torch.tensor( torch.rand(1,), requires_grad= True)"
      ],
      "metadata": {
        "colab": {
          "base_uri": "https://localhost:8080/"
        },
        "id": "hke8Nb820Esi",
        "outputId": "efbb8c6d-8c99-4e75-e950-5e5e792d7873"
      },
      "execution_count": 12,
      "outputs": [
        {
          "output_type": "stream",
          "name": "stderr",
          "text": [
            "/usr/local/lib/python3.7/dist-packages/ipykernel_launcher.py:3: UserWarning: To copy construct from a tensor, it is recommended to use sourceTensor.clone().detach() or sourceTensor.clone().detach().requires_grad_(True), rather than torch.tensor(sourceTensor).\n",
            "  This is separate from the ipykernel package so we can avoid doing imports until\n",
            "/usr/local/lib/python3.7/dist-packages/ipykernel_launcher.py:4: UserWarning: To copy construct from a tensor, it is recommended to use sourceTensor.clone().detach() or sourceTensor.clone().detach().requires_grad_(True), rather than torch.tensor(sourceTensor).\n",
            "  after removing the cwd from sys.path.\n"
          ]
        }
      ]
    },
    {
      "cell_type": "code",
      "source": [
        "print(W)"
      ],
      "metadata": {
        "id": "gM0czLCJ5THG",
        "colab": {
          "base_uri": "https://localhost:8080/"
        },
        "outputId": "616fa75a-6548-4d4d-b4ac-3501ac0cf7c6"
      },
      "execution_count": 13,
      "outputs": [
        {
          "output_type": "stream",
          "name": "stdout",
          "text": [
            "tensor([[0.6034],\n",
            "        [0.6869],\n",
            "        [0.7228],\n",
            "        [0.9485],\n",
            "        [0.8793],\n",
            "        [0.6068],\n",
            "        [0.2208],\n",
            "        [0.3923],\n",
            "        [0.9831],\n",
            "        [0.1521],\n",
            "        [0.5706],\n",
            "        [0.0405],\n",
            "        [0.1450],\n",
            "        [0.6641],\n",
            "        [0.0686]], requires_grad=True)\n"
          ]
        }
      ]
    },
    {
      "cell_type": "code",
      "source": [
        "index = torch.randperm(100)\n",
        "\n",
        "##### dự đoán 32 mẫu giá nhà, kết quả phải có shape là [32,15]\n",
        "y_predict = X_train[index[0:32],:] @ W.double() + b.double()\n",
        "assert list(y_predict.shape) == [32,1], \"Not matching shape\"\n",
        "\n",
        "##### dự đoán 64 mẫu giá nhà, kết quả phải có shape là [64,15]\n",
        "y_predict = X_train[index[0:64],:] @ W.double() + b.double()\n",
        "assert list(y_predict.shape) == [64,1], \"Not matching shape\"\n",
        "\n",
        "diff = y_predict - y_train[index[0:64],:]\n",
        "assert list(diff.shape) == [64,1], \"Not matching shape\"\n",
        "loss = torch.sum(diff*diff)/(2*diff.numel()) \n",
        "loss"
      ],
      "metadata": {
        "id": "kFH28mtO8J6A",
        "colab": {
          "base_uri": "https://localhost:8080/"
        },
        "outputId": "55ac666e-1b0e-4bf0-b9cb-3edf7b548a01"
      },
      "execution_count": 14,
      "outputs": [
        {
          "output_type": "execute_result",
          "data": {
            "text/plain": [
              "tensor(7.8551, dtype=torch.float64, grad_fn=<DivBackward0>)"
            ]
          },
          "metadata": {},
          "execution_count": 14
        }
      ]
    },
    {
      "cell_type": "code",
      "source": [
        "X_train.shape"
      ],
      "metadata": {
        "colab": {
          "base_uri": "https://localhost:8080/"
        },
        "id": "3jNcedmEWY3f",
        "outputId": "c35a08c2-4699-4def-c145-a3fb6a93d9af"
      },
      "execution_count": 15,
      "outputs": [
        {
          "output_type": "execute_result",
          "data": {
            "text/plain": [
              "torch.Size([17290, 15])"
            ]
          },
          "metadata": {},
          "execution_count": 15
        }
      ]
    },
    {
      "cell_type": "code",
      "source": [
        "import pandas as pd\n",
        "import torch\n",
        "\n",
        "### Đọc dữ liệu huấn luyện\n",
        "df_train = pd.read_csv('/content/kc_house_data.csv')\n",
        "df_train = df_train.drop([\"id\"] , axis = 1) \n",
        "\n",
        "df_train = df_train.drop([\"date\",\"lat\",\"long\",\"zipcode\"] , axis = 1) \n",
        "from sklearn import preprocessing\n",
        "import numpy as np\n",
        "from sklearn.model_selection import train_test_split\n",
        "\n",
        "\n",
        "scaler = preprocessing.StandardScaler().fit(df_train)\n",
        "\n",
        "data_numpy = scaler.transform(df_train)\n",
        "\n",
        "#### seed thường thấy trong numpy, pytorch, tensorflow, ...\n",
        "#### Hàm này giúp mỗi lần thực hiện lần sau, bộ dữ liệu sẽ không đổi khi split\n",
        "#### Giúp kết quả không phụ thuộc vào cách chia dữ liệu\n",
        "#### mà là ở bộ trọng số, các hyperparameter khác nhau \n",
        "torch.manual_seed(42)\n",
        "\n",
        "train, val = train_test_split(data_numpy,test_size = 0.2)\n",
        "\n",
        "feature_names = df_train.columns\n",
        "\n",
        "train_np = torch.tensor(train)\n",
        "\n",
        "X_train = train_np[:,feature_names != \"price\"]\n",
        "y_train = train_np[:,feature_names == \"price\"]\n",
        "\n",
        "val_np = torch.tensor(val)\n",
        "\n",
        "X_val = val_np[:,feature_names != \"price\"]\n",
        "y_val = val_np[:,feature_names == \"price\"]"
      ],
      "metadata": {
        "id": "PhYaL4vUe2U9"
      },
      "execution_count": 19,
      "outputs": []
    },
    {
      "cell_type": "code",
      "source": [
        "W = torch.tensor( torch.rand(X_train.shape[1],1), requires_grad= True)\n",
        "b = torch.tensor( torch.rand(1,), requires_grad= True)\n",
        "\n",
        "variable_list = [W,b]\n",
        "# for var in variable_list:\n",
        "#   var.required_grad\n",
        "\n",
        "number_of_epochs = 20\n",
        "batch_size = 32\n",
        "learning_rate = 1e-2\n",
        "\n",
        "\n",
        "num_of_samples = X_train.shape[0]\n",
        "shuffle_indices = torch.randperm(num_of_samples)\n",
        "\n",
        "val_every = 5\n",
        "\n",
        "for epoch in range(number_of_epochs):\n",
        "  #### Train loop\n",
        "\n",
        "  for k in (0,num_of_samples//batch_size):  \n",
        "    index = shuffle_indices[k*batch_size:(k+1)*batch_size]\n",
        "    \n",
        "    ### Tính toán y pred : X W + b\n",
        "    batch_X_train   = X_train[index,:]\n",
        "    batch_y_true    = y_train[index,:]\n",
        "\n",
        "    ############# Code tại đây #############\n",
        "    batch_y_predict =  batch_X_train @ W.double() + b.double()\n",
        "    ########################################\n",
        "    \n",
        "    diff = batch_y_predict - batch_y_true\n",
        "\n",
        "    ############# Code tại đây #############\n",
        "    ### loss = tổng(diff ^ 2) / số mẫu lấy ra \n",
        "    loss = torch.sum(diff**2)/(2*diff.numel())\n",
        "    ########################################\n",
        "    \n",
        "    loss.backward()\n",
        "    with torch.no_grad():\n",
        "      W -= learning_rate*W.grad\n",
        "      b -= learning_rate*b.grad\n",
        "      W.grad.zero_()\n",
        "      b.grad.zero_()\n",
        "  #### Print loss\n",
        "  print(\"Train loss {:.6f} at epoch {}\".format(loss,epoch))\n",
        "  #### Kiểm tra loss khi thực hiện dự đoán trên tập val mỗi 5 epoch train\n",
        "  if epoch % val_every == 0:\n",
        "    ### Val loop\n",
        "    ### Lúc val ta không cần tính đạo hàm, vì thế cần tắt grad của các biến \n",
        "    W.required_grad = False\n",
        "    b.required_grad = False\n",
        "    val_loss = []\n",
        "    val_shuffle_indices = torch.randperm(X_val.shape[0])\n",
        "\n",
        "    for k in range(0,X_val.shape[0]//batch_size): \n",
        "      index = val_shuffle_indices[k*batch_size:(k+1)*batch_size]\n",
        "\n",
        "      ### Tương tự ### Tính toán y pred : X W + b\n",
        "      batch_X_val     = X_val[index,:]\n",
        "      batch_y_true    = y_val[index,:]\n",
        "\n",
        "      ############# Code tại đây #############\n",
        "      batch_y_predict = batch_X_val @ W.double() +b.double()\n",
        "      ########################################\n",
        "\n",
        "      diff = batch_y_predict - batch_y_true\n",
        "\n",
        "      ############# Code tại đây #############\n",
        "      ### loss = tổng(diff ^ 2) / số mẫu lấy ra \n",
        "      loss = torch.sum(diff**2)/(2*diff.numel())\n",
        "      ########################################\n",
        "      val_loss.append(loss)\n",
        "    val_loss_avg = torch.tensor(val_loss).sum()\n",
        "    val_loss_avg = val_loss_avg / len(val_loss)\n",
        "    print(\"Average val loss {:.6f} at epoch {}\".format(val_loss_avg,epoch))\n",
        "\n",
        "    ### Sau đó, ta cần mở lại cho việc huấn luyện bằng cách\n",
        "    W.required_grad = True\n",
        "    b.required_grad = True"
      ],
      "metadata": {
        "id": "CjPmT9PKnPRD",
        "colab": {
          "base_uri": "https://localhost:8080/"
        },
        "outputId": "16583d0f-97cd-43f9-d963-510388186db7"
      },
      "execution_count": 20,
      "outputs": [
        {
          "output_type": "stream",
          "name": "stderr",
          "text": [
            "/usr/local/lib/python3.7/dist-packages/ipykernel_launcher.py:1: UserWarning: To copy construct from a tensor, it is recommended to use sourceTensor.clone().detach() or sourceTensor.clone().detach().requires_grad_(True), rather than torch.tensor(sourceTensor).\n",
            "  \"\"\"Entry point for launching an IPython kernel.\n",
            "/usr/local/lib/python3.7/dist-packages/ipykernel_launcher.py:2: UserWarning: To copy construct from a tensor, it is recommended to use sourceTensor.clone().detach() or sourceTensor.clone().detach().requires_grad_(True), rather than torch.tensor(sourceTensor).\n",
            "  \n"
          ]
        },
        {
          "output_type": "stream",
          "name": "stdout",
          "text": [
            "Train loss 5.347823 at epoch 0\n",
            "Average val loss 7.699596 at epoch 0\n",
            "Train loss 4.628593 at epoch 1\n",
            "Train loss 4.015178 at epoch 2\n",
            "Train loss 3.491670 at epoch 3\n",
            "Train loss 3.044565 at epoch 4\n",
            "Train loss 2.662396 at epoch 5\n",
            "Average val loss 4.478483 at epoch 5\n",
            "Train loss 2.335428 at epoch 6\n",
            "Train loss 2.055394 at epoch 7\n",
            "Train loss 1.815277 at epoch 8\n",
            "Train loss 1.609116 at epoch 9\n",
            "Train loss 1.431854 at epoch 10\n",
            "Average val loss 2.923221 at epoch 10\n",
            "Train loss 1.279193 at epoch 11\n",
            "Train loss 1.147486 at epoch 12\n",
            "Train loss 1.033634 at epoch 13\n",
            "Train loss 0.935007 at epoch 14\n",
            "Train loss 0.849370 at epoch 15\n",
            "Average val loss 2.134569 at epoch 15\n",
            "Train loss 0.774824 at epoch 16\n",
            "Train loss 0.709758 at epoch 17\n",
            "Train loss 0.652799 at epoch 18\n",
            "Train loss 0.602784 at epoch 19\n"
          ]
        }
      ]
    },
    {
      "cell_type": "code",
      "source": [
        ""
      ],
      "metadata": {
        "id": "tPAPH638mrVZ"
      },
      "execution_count": null,
      "outputs": []
    }
  ],
  "metadata": {
    "accelerator": "GPU",
    "colab": {
      "name": "Copy of Linear_Regression_bt.ipynb",
      "provenance": [],
      "collapsed_sections": [],
      "include_colab_link": true
    },
    "kernelspec": {
      "display_name": "Python 3",
      "name": "python3"
    },
    "language_info": {
      "name": "python"
    }
  },
  "nbformat": 4,
  "nbformat_minor": 0
}